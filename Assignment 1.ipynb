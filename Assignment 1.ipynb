{
 "cells": [
  {
   "cell_type": "code",
   "execution_count": null,
   "metadata": {},
   "outputs": [],
   "source": [
    "from quantopian.pipeline import Pipeline\n",
    "from quantopian.research import run_pipeline\n",
    "\n",
    "#Creating a Pipeline\n",
    "def make_pipeline():\n",
    "    return Pipeline()\n",
    "my_pipe = make_pipeline()\n",
    "\n",
    "#Running the Pipeline\n",
    "result = run_pipeline(my_pipe, '2010-05-05', '2018-05-05')\n",
    "result.head()"
   ]
  },
  {
   "cell_type": "code",
   "execution_count": null,
   "metadata": {},
   "outputs": [],
   "source": [
    "from quantopian.pipeline.data.builtin import USEquityPricing\n",
    "from quantopian.pipeline.factors import SimpleMovingAverage\n",
    "\n",
    "#Adding factor to pipeline\n",
    "def make_pipeline():\n",
    "\n",
    "    mean_close_10 = SimpleMovingAverage(\n",
    "        inputs=[USEquityPricing.close],\n",
    "        window_length=10\n",
    "    )\n",
    "    \n",
    "    latest_close = USEquityPricing.close.latest\n",
    "\n",
    "    return Pipeline(\n",
    "        columns={\n",
    "            '10_day_mean_close': mean_close_10,\n",
    "            'latest_close_price': latest_close\n",
    "        }\n",
    "    )\n",
    "\n",
    "result = run_pipeline(make_pipeline(), '2010-05-05', '2018-05-05')\n",
    "result.head()"
   ]
  },
  {
   "cell_type": "code",
   "execution_count": null,
   "metadata": {},
   "outputs": [],
   "source": [
    "from quantopian.pipeline.factors import AverageDollarVolume\n",
    "\n",
    "def make_pipeline():\n",
    "\n",
    "    mean_close_10 = SimpleMovingAverage(\n",
    "        inputs=[USEquityPricing.close],\n",
    "        window_length=10\n",
    "    )\n",
    "    latest_close = USEquityPricing.close.latest\n",
    "# Creating a filter\n",
    "    dollar_volume = AverageDollarVolume(window_length=30)\n",
    "\n",
    "    high_dollar_volume = (dollar_volume > 10000000)\n",
    "\n",
    "    return Pipeline(\n",
    "        columns={\n",
    "             '10_day_mean_close': mean_close_10,\n",
    "            'latest_close_price': latest_close,\n",
    "            'high_dollar_volume': high_dollar_volume\n",
    "        },\n",
    "    )\n",
    "\n",
    "result = run_pipeline(make_pipeline(), '2010-05-05', '2018-05-05')\n",
    "result.head()"
   ]
  },
  {
   "cell_type": "code",
   "execution_count": null,
   "metadata": {},
   "outputs": [],
   "source": [
    "def make_pipeline():\n",
    "\n",
    "    mean_close_10 = SimpleMovingAverage(\n",
    "        inputs=[USEquityPricing.close],\n",
    "        window_length=10\n",
    "    )\n",
    "    latest_close = USEquityPricing.close.latest\n",
    "\n",
    "    dollar_volume = AverageDollarVolume(window_length=30)\n",
    "\n",
    "    high_dollar_volume = (dollar_volume > 10000000)\n",
    "\n",
    "    return Pipeline(\n",
    "        columns={\n",
    "             '10_day_mean_close': mean_close_10,\n",
    "            'latest_close_price': latest_close\n",
    "        },\n",
    "        # applying a screen\n",
    "        screen =  high_dollar_volume\n",
    "    )\n",
    "\n",
    "result = run_pipeline(make_pipeline(), '2010-05-05', '2018-05-05')\n",
    "result.head()"
   ]
  },
  {
   "cell_type": "code",
   "execution_count": null,
   "metadata": {},
   "outputs": [],
   "source": [
    "def make_pipeline():\n",
    "\n",
    "    mean_close_10 = SimpleMovingAverage(\n",
    "        inputs=[USEquityPricing.close],\n",
    "        window_length=10\n",
    "    )\n",
    "\n",
    "    dollar_volume = AverageDollarVolume(window_length=30)\n",
    "\n",
    "    high_dollar_volume = (dollar_volume > 10000000)\n",
    "\n",
    "    return Pipeline(\n",
    "        columns={\n",
    "             '10_day_mean_close': mean_close_10\n",
    "        },\n",
    "        screen =  high_dollar_volume\n",
    "    )\n",
    "\n",
    "factor_data = run_pipeline(make_pipeline(), '2010-05-05', '2018-05-05')\n",
    "factor_data.head()"
   ]
  },
  {
   "cell_type": "code",
   "execution_count": null,
   "metadata": {},
   "outputs": [],
   "source": [
    "# Get pricing data\n",
    "\n",
    "pricing_data = get_pricing(symbols=factor_data.index.levels[1],\n",
    "                          start_date='2010-05-05', end_date='2019-05-05', fields='open_price')\n",
    "\n",
    "pricing_data.head()"
   ]
  },
  {
   "cell_type": "code",
   "execution_count": null,
   "metadata": {},
   "outputs": [],
   "source": [
    "from alphalens.utils import get_clean_factor_and_forward_returns\n",
    "merged_data = get_clean_factor_and_forward_returns(\n",
    "    factor = factor_data,\n",
    "    prices = pricing_data,\n",
    "    quantiles=10,\n",
    "    periods=[28]\n",
    "    )\n",
    "merged_data.head()"
   ]
  },
  {
   "cell_type": "code",
   "execution_count": null,
   "metadata": {},
   "outputs": [],
   "source": [
    "from alphalens.tears import create_full_tear_sheet\n",
    "\n",
    "create_full_tear_sheet(merged_data)"
   ]
  },
  {
   "cell_type": "code",
   "execution_count": null,
   "metadata": {},
   "outputs": [],
   "source": [
    "def make_pipeline():\n",
    "\n",
    "    mean_close_10 = SimpleMovingAverage(\n",
    "        inputs=[USEquityPricing.close],\n",
    "        window_length=10\n",
    "    )\n",
    "\n",
    "    dollar_volume = AverageDollarVolume(window_length=30)\n",
    "\n",
    "    high_dollar_volume = (dollar_volume > 10000000)\n",
    "\n",
    "    return Pipeline(\n",
    "        columns={\n",
    "             '10_day_mean_close': mean_close_10\n",
    "        },\n",
    "        screen =  high_dollar_volume\n",
    "    )\n",
    "\n",
    "factor_data = run_pipeline(make_pipeline(), '2010-05-05', '2018-05-05')\n",
    "factor_data.head()"
   ]
  },
  {
   "cell_type": "code",
   "execution_count": null,
   "metadata": {},
   "outputs": [],
   "source": []
  }
 ],
 "metadata": {
  "kernelspec": {
   "display_name": "Python 3.5",
   "language": "python",
   "name": "py35"
  },
  "language_info": {
   "codemirror_mode": {
    "name": "ipython",
    "version": 3
   },
   "file_extension": ".py",
   "mimetype": "text/x-python",
   "name": "python",
   "nbconvert_exporter": "python",
   "pygments_lexer": "ipython3",
   "version": "3.5.10"
  }
 },
 "nbformat": 4,
 "nbformat_minor": 2
}
